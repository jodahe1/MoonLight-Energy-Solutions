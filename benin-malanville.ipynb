{
 "cells": [
  {
   "cell_type": "markdown",
   "id": "65ee3994-4072-4a39-91e5-c0b3b2691b5b",
   "metadata": {},
   "source": [
    "code for benin-malanville\n"
   ]
  },
  {
   "cell_type": "code",
   "execution_count": 1,
   "id": "1f9f9c08-4fd2-4901-b3d3-6eda5125d37e",
   "metadata": {},
   "outputs": [],
   "source": [
    "import pandas as pd"
   ]
  },
  {
   "cell_type": "code",
   "execution_count": 2,
   "id": "2c52f66e-04ff-423b-8af4-940349fa4191",
   "metadata": {},
   "outputs": [],
   "source": [
    "# Read the CSV file\n",
    "df = pd.read_csv('benin-malanville.csv')"
   ]
  },
  {
   "cell_type": "code",
   "execution_count": 5,
   "id": "f1ae21f5-ac46-4a35-9519-015acf0f9b54",
   "metadata": {},
   "outputs": [
    {
     "name": "stdout",
     "output_type": "stream",
     "text": [
      "Range for column DHI: 771.8000000000001\n",
      "Variance for column DHI: 25182.856922631676\n",
      "Quartiles for column DHI:\n",
      "0.25     -2.1\n",
      "0.50      1.6\n",
      "0.75    216.3\n",
      "Name: DHI, dtype: float64\n",
      "75th Percentile for column DHI: 216.3\n",
      "Pearson Correlation Coefficient (DHI vs GHI): 0.8499886865499605\n",
      "Mean for column DHI: 115.35896080669708\n",
      "Mode for column DHI: -1.4\n",
      "Median for column DHI: 1.6\n",
      "Standard Deviation for column DHI: 158.6910738593437\n"
     ]
    }
   ],
   "source": [
    "# Calculate the mean for the column \"DHI\"\n",
    "mean_DHI = df['DHI'].mean()\n",
    "\n",
    "# Calculate the mode for the column \"DHI\"\n",
    "mode_DHI = df['DHI'].mode().values[0]\n",
    "\n",
    "# Calculate the median for the column \"DHI\"\n",
    "median_DHI = df['DHI'].median()\n",
    "\n",
    "# Calculate the standard deviation for the column \"DHI\"\n",
    "std_DHI = df['DHI'].std()\n",
    "\n",
    "# Calculate the range for the column \"DHI\"\n",
    "range_DHI = df['DHI'].max() - df['DHI'].min()\n",
    "\n",
    "# Calculate the variance for the column \"DHI\"\n",
    "variance_DHI = df['DHI'].var()\n",
    "\n",
    "# Calculate the quartiles for the column \"DHI\"\n",
    "quartiles_DHI = df['DHI'].quantile([0.25, 0.5, 0.75])\n",
    "\n",
    "# Calculate the 75th percentile for the column \"DHI\"\n",
    "percentile_75th_DHI = df['DHI'].quantile(0.75)\n",
    "\n",
    "# Calculate the Pearson correlation coefficient between columns \"DHI\" and \"GHI\"\n",
    "pearson_corr = df['DHI'].corr(df['GHI'])\n",
    "\n",
    "# Print the calculated mean for \"DHI\"\n",
    "print(\"Mean for column DHI:\", mean_DHI)\n",
    "# Print the calculated mode, median, and standard deviation for \"DHI\"\n",
    "print(\"Mode for column DHI:\", mode_DHI)\n",
    "print(\"Median for column DHI:\", median_DHI)\n",
    "print(\"Standard Deviation for column DHI:\", std_DHI)\n",
    "# Print the calculated values\n",
    "print(\"Range for column DHI:\", range_DHI)\n",
    "print(\"Variance for column DHI:\", variance_DHI)\n",
    "print(\"Quartiles for column DHI:\")\n",
    "print(quartiles_DHI)\n",
    "print(\"75th Percentile for column DHI:\", percentile_75th_DHI)\n",
    "print(\"Pearson Correlation Coefficient (DHI vs GHI):\", pearson_corr)\n",
    "\n"
   ]
  },
  {
   "cell_type": "code",
   "execution_count": null,
   "id": "a197ca68-54e2-4e61-97f6-0a28c711e34d",
   "metadata": {},
   "outputs": [],
   "source": []
  }
 ],
 "metadata": {
  "kernelspec": {
   "display_name": "Python 3 (ipykernel)",
   "language": "python",
   "name": "python3"
  },
  "language_info": {
   "codemirror_mode": {
    "name": "ipython",
    "version": 3
   },
   "file_extension": ".py",
   "mimetype": "text/x-python",
   "name": "python",
   "nbconvert_exporter": "python",
   "pygments_lexer": "ipython3",
   "version": "3.11.7"
  }
 },
 "nbformat": 4,
 "nbformat_minor": 5
}
